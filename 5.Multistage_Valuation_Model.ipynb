{
 "cells": [
  {
   "cell_type": "markdown",
   "source": [
    "Created by william from lexueoude.com. 更多正版技术视频讲解，微信公众号：乐学FinTech"
   ],
   "metadata": {
    "collapsed": false
   }
  },
  {
   "cell_type": "markdown",
   "metadata": {
    "collapsed": true,
    "pycharm": {
     "name": "#%% md\n"
    }
   },
   "source": [
    "1.Growth Phase(Three_Stage_Mode):EPS very very high,negative FCFF, ROE>r \n",
    "2.Transition Phase(Two_Stage_Mode):EPS above average but declining ,FCFF positive and growing,ROE approaching r\n",
    "3.Maturity Phase(Gordon): ROE=r\n"
   ]
  },
  {
   "cell_type": "markdown",
   "source": [
    "LXOD Inc.\n",
    "1.current dividend $1\n",
    "2.15% in next 3 year\n",
    "3.5% begin at 4 year and will remain at tha level indefinitely\n",
    "4.r = 10%\n",
    "\n",
    "P0?\n",
    "\n",
    "$$V_0 = \\frac{1*1.10}{1+10\\%}+\\frac{1*1.10*1.10}{(1+10\\%)^2}+\\frac{1*1.10*1.10*1.10+\\frac{1*1.10*1.10*1.10*1.05}{10\\%-5\\%}}{(1+10\\%)^3}$$"
   ],
   "metadata": {
    "collapsed": false
   }
  },
  {
   "cell_type": "code",
   "execution_count": 11,
   "outputs": [
    {
     "data": {
      "text/plain": "([1.15, 1.202272727272727, 1.2569214876033052],\n [1.15, 1.3224999999999998, 1.5208749999999995])"
     },
     "metadata": {},
     "output_type": "execute_result",
     "execution_count": 11
    }
   ],
   "source": [
    "def calcutate_two_stage_DDM(current_dividend,g_1,g_2,r,divider_year):\n",
    "    PV_current_dividend_list = list()\n",
    "    current_dividend_list = list()\n",
    "    for i in range(divider_year):\n",
    "        current_dividend = current_dividend*(1+g_1)\n",
    "        current_dividend_list.append(current_dividend)\n",
    "        PV_current_dividend = current_dividend/((1+r)**i)\n",
    "        PV_current_dividend_list.append(PV_current_dividend)\n",
    "    return PV_current_dividend_list,current_dividend_list\n",
    "\n",
    "calcutate_two_stage_DDM(1,0.15,0.05,0.1,3)\n",
    "\n"
   ],
   "metadata": {
    "collapsed": false,
    "pycharm": {
     "name": "#%%\n",
     "is_executing": false
    }
   }
  },
  {
   "cell_type": "code",
   "execution_count": null,
   "outputs": [],
   "source": [
    "\n"
   ],
   "metadata": {
    "collapsed": false,
    "pycharm": {
     "name": "#%%\n"
    }
   }
  }
 ],
 "metadata": {
  "kernelspec": {
   "display_name": "Python 3",
   "language": "python",
   "name": "python3"
  },
  "language_info": {
   "codemirror_mode": {
    "name": "ipython",
    "version": 2
   },
   "file_extension": ".py",
   "mimetype": "text/x-python",
   "name": "python",
   "nbconvert_exporter": "python",
   "pygments_lexer": "ipython2",
   "version": "2.7.6"
  }
 },
 "nbformat": 4,
 "nbformat_minor": 0
}