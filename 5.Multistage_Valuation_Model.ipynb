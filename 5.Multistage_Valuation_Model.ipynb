{
 "cells": [
  {
   "cell_type": "markdown",
   "source": [
    "Created by william from lexueoude.com. 更多正版技术视频讲解，微信公众号：乐学FinTech"
   ],
   "metadata": {
    "collapsed": false
   }
  },
  {
   "cell_type": "markdown",
   "metadata": {
    "collapsed": true,
    "pycharm": {
     "name": "#%% md\n"
    }
   },
   "source": [
    "1.Growth Phase(Three_Stage_Mode):EPS very very high,negative FCFF, ROE>r \n",
    "2.Transition Phase(Two_Stage_Mode):EPS above average but declining ,FCFF positive and growing,ROE approaching r\n",
    "3.Maturity Phase(Gordon): ROE=r\n"
   ]
  },
  {
   "cell_type": "markdown",
   "source": [
    "LXOD Inc.\n",
    "1.current dividend $1.5\n",
    "2.20% in next 4 year\n",
    "3.7% begin at 4 year and will remain at tha level indefinitely\n",
    "4.r = 12.4%\n",
    "\n",
    "P0?\n",
    "\n",
    "$$V_0 = \\frac{1*1.15}{1+10\\%}+\\frac{1*1.15*1.15}{(1+10\\%)^2}+\\frac{1*1.15*1.15*1.15+\\frac{1*1.15*1.15*1.15*1.05}{10\\%-5\\%}}{(1+10\\%)^3}$$"
   ],
   "metadata": {
    "collapsed": false
   }
  },
  {
   "cell_type": "code",
   "execution_count": 16,
   "outputs": [
    {
     "name": "stderr",
     "output_type": "stream",
     "text": [
      "/Users/william/.conda/envs/LoveShareFinTech-Equity_Valuation/lib/python3.7/site-packages/ipykernel_launcher.py:15: DeprecationWarning: numpy.npv is deprecated and will be removed from NumPy 1.20. Use numpy_financial.npv instead (https://pypi.org/project/numpy-financial/).\n",
      "  from ipykernel import kernelapp as app\n"
     ]
    },
    {
     "data": {
      "text/plain": "([0, 1.7999999999999998, 2.1599999999999997, 2.5919999999999996, 64.7424],\n 45.69882712944327)"
     },
     "execution_count": 16,
     "metadata": {},
     "output_type": "execute_result"
    }
   ],
   "source": [
    "import numpy as np\n",
    "\n",
    "def calcutate_two_stage_DDM(current_dividend,g_1,g_2,r,divider_year):\n",
    "    PV_current_dividend_list = [0]\n",
    "    current_dividend_list = [0]\n",
    "    for i in range(divider_year):\n",
    "        current_dividend = current_dividend*(1+g_1)\n",
    "        current_dividend_list.append(current_dividend)\n",
    "        PV_current_dividend = current_dividend/((1+r)**i)\n",
    "        PV_current_dividend_list.append(PV_current_dividend)\n",
    "    new_dividend = current_dividend_list[-1] * (1+g_2)\n",
    "    terminal_value = new_dividend/(r- g_2)\n",
    "    current_dividend_list[-1] = current_dividend_list[-1] + terminal_value\n",
    "\n",
    "    NPV = np.npv(r,current_dividend_list)\n",
    "\n",
    "# 不一定要return PV_current_dividend_list,\n",
    "    return current_dividend_list,NPV\n",
    "\n",
    "calcutate_two_stage_DDM(1.5,0.20,0.07,0.124,4)\n",
    "\n",
    "\n"
   ],
   "metadata": {
    "collapsed": false,
    "pycharm": {
     "name": "#%%\n"
    }
   }
  },
  {
   "cell_type": "markdown",
   "source": [
    "LXOD Inc.\n",
    "1.current dividend $2\n",
    "2.currently 20% ----> 10% in next 4 year\n",
    "3.10% begin at 4 year and will remain at tha level indefinitely\n",
    "4.r = 18 %\n",
    "\n",
    "P0?\n",
    "\n",
    "\n",
    "$$ V = \\frac{(2 * 1.1) +(2 * \\frac{4}{2} *(0.20 - 0.10))}{0.18 - 0.10 }$$"
   ],
   "metadata": {
    "collapsed": false
   }
  },
  {
   "cell_type": "code",
   "execution_count": 1,
   "outputs": [
    {
     "data": {
      "text/plain": "32.50000000000001"
     },
     "execution_count": 1,
     "metadata": {},
     "output_type": "execute_result"
    }
   ],
   "source": [
    "def calcutate_H_model(D_0,g_s,g_l,r,t):\n",
    "    V_0 = (D_0*(1+g_l) + D_0 *(t/2)*(g_s- g_l))/(r-g_l)\n",
    "    return V_0\n",
    "\n",
    "calcutate_H_model(2,0.2,0.1,0.18,4)"
   ],
   "metadata": {
    "collapsed": false,
    "pycharm": {
     "name": "#%%\n"
    }
   }
  },
  {
   "cell_type": "code",
   "execution_count": null,
   "outputs": [],
   "source": [],
   "metadata": {
    "collapsed": false,
    "pycharm": {
     "name": "#%%\n"
    }
   }
  }
 ],
 "metadata": {
  "kernelspec": {
   "display_name": "Python 3",
   "language": "python",
   "name": "python3"
  },
  "language_info": {
   "codemirror_mode": {
    "name": "ipython",
    "version": 2
   },
   "file_extension": ".py",
   "mimetype": "text/x-python",
   "name": "python",
   "nbconvert_exporter": "python",
   "pygments_lexer": "ipython2",
   "version": "2.7.6"
  }
 },
 "nbformat": 4,
 "nbformat_minor": 0
}